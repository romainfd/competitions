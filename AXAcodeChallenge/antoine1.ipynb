{
 "cells": [
  {
   "cell_type": "code",
   "execution_count": 3,
   "metadata": {},
   "outputs": [
    {
     "name": "stdout",
     "output_type": "stream",
     "text": [
      "The autoreload extension is already loaded. To reload it, use:\n",
      "  %reload_ext autoreload\n"
     ]
    }
   ],
   "source": [
    "%load_ext autoreload\n",
    "%autoreload 2\n",
    "\n",
    "import numpy as np\n",
    "import seaborn as sns\n",
    "\n",
    "import matplotlib\n",
    "import matplotlib.pyplot as plt\n",
    "%matplotlib inline\n",
    "from IPython.display import set_matplotlib_formats, clear_output\n",
    "set_matplotlib_formats('retina')\n",
    "plt.style.use('ggplot')\n",
    "plt.rcParams['figure.figsize'] = (12.0, 7.0)\n",
    "\n",
    "import json"
   ]
  },
  {
   "cell_type": "code",
   "execution_count": 27,
   "metadata": {},
   "outputs": [],
   "source": [
    "def load_dataset(i):\n",
    "    with open(f'data/{i:d}.json') as f:\n",
    "        data = json.load(f)\n",
    "        quotas = data['quotas']\n",
    "        workers = data['workers']\n",
    "        dataset = Dataset(i, quotas, workers)\n",
    "    return dataset"
   ]
  },
  {
   "cell_type": "code",
   "execution_count": 28,
   "metadata": {},
   "outputs": [],
   "source": [
    "dataset = load_dataset(2)"
   ]
  },
  {
   "cell_type": "code",
   "execution_count": 26,
   "metadata": {},
   "outputs": [],
   "source": [
    "class Worker(object):\n",
    "    \n",
    "    def __init__(self, worker_id, info):\n",
    "        self.id = worker_id\n",
    "        self.domain = info['domain']\n",
    "        self.morning_options = info['morningOptions']\n",
    "        self.evening_options = info['eveningOptions']\n",
    "        \n",
    "    def score(self):\n",
    "        pass\n",
    "        \n",
    "    def add_transport_to_dic(self, dic_morning, dic_evening):\n",
    "        for transports in self.morning_options:\n",
    "            for transport_id in transports:\n",
    "                if transport_id not in dic_morning:\n",
    "                    dic_morning[transport_id] = Transport(transport_id, True)\n",
    "                dic_morning[transport_id].add_user(self.id)\n",
    "        \n",
    "        for transports in self.evening_options:\n",
    "            for transport_id in transports:\n",
    "                if transport_id not in dic_evening:\n",
    "                    dic_evening[transport_id] = Transport(transport_id, False)\n",
    "                dic_evening[transport_id].add_user(self.id)\n",
    "\n",
    "class Transport(object):\n",
    "    \n",
    "    def __init__(self, id, is_morning):\n",
    "        self.id = id\n",
    "        self.is_morning = is_morning\n",
    "        self.potential_users_id = []\n",
    "        \n",
    "    def add_user(self, user_id):\n",
    "        self.potential_users_id.append(user_id)\n",
    "        \n",
    "class Dataset(object):\n",
    "    \n",
    "    def __init__(self, id_nb, quotas, workers):\n",
    "        self.id = id_nb\n",
    "        self.quotas = quotas\n",
    "        self.workers_id_dic = {}\n",
    "        self.workers = []\n",
    "        self.transports_morning = {}\n",
    "        self.transports_evening = {}\n",
    "        for worker_id, worker_info in workers.items():\n",
    "            self.workers.append(Worker(worker_id, worker_info))\n",
    "            self.workers[-1].add_transport_to_dic(self.transports_morning, self.transports_evening)\n",
    "        "
   ]
  },
  {
   "cell_type": "code",
   "execution_count": 12,
   "metadata": {},
   "outputs": [
    {
     "data": {
      "text/plain": [
       "{'Chloe Carbonneau': {'domain': 'medical',\n",
       "  'morningOptions': [[101, 111], [102, 112]],\n",
       "  'eveningOptions': [[211, 201], [212, 202]]},\n",
       " 'Gregory Bourcier': {'domain': 'medical',\n",
       "  'morningOptions': [[102, 112], [103, 113]],\n",
       "  'eveningOptions': [[211, 201]]},\n",
       " 'Coline Schaeffer': {'domain': 'transport',\n",
       "  'morningOptions': [[102, 113, 112], [101, 102, 113]],\n",
       "  'eveningOptions': [[211]]},\n",
       " 'Jean-Baptiste Charrier': {'domain': 'medical',\n",
       "  'morningOptions': [[101, 111], [102, 112], [103, 113]],\n",
       "  'eveningOptions': [[211, 201], [212, 201]]}}"
      ]
     },
     "execution_count": 12,
     "metadata": {},
     "output_type": "execute_result"
    }
   ],
   "source": [
    "data['workers'].items()"
   ]
  },
  {
   "cell_type": "code",
   "execution_count": 30,
   "metadata": {},
   "outputs": [
    {
     "data": {
      "text/plain": [
       "<__main__.Worker at 0x12d27e110>"
      ]
     },
     "execution_count": 30,
     "metadata": {},
     "output_type": "execute_result"
    }
   ],
   "source": [
    "dataset.workers[0]"
   ]
  },
  {
   "cell_type": "code",
   "execution_count": null,
   "metadata": {},
   "outputs": [],
   "source": []
  }
 ],
 "metadata": {
  "kernelspec": {
   "display_name": "Python 3",
   "language": "python",
   "name": "python3"
  },
  "language_info": {
   "codemirror_mode": {
    "name": "ipython",
    "version": 3
   },
   "file_extension": ".py",
   "mimetype": "text/x-python",
   "name": "python",
   "nbconvert_exporter": "python",
   "pygments_lexer": "ipython3",
   "version": "3.7.6"
  }
 },
 "nbformat": 4,
 "nbformat_minor": 4
}
