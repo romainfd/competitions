{
 "cells": [
  {
   "cell_type": "code",
   "execution_count": 1,
   "metadata": {},
   "outputs": [],
   "source": [
    "#%load_ext autoreload\n",
    "#%autoreload 2\n",
    "\n",
    "import json\n",
    "import numpy as np\n",
    "import seaborn as sns\n",
    "\n",
    "import matplotlib\n",
    "import matplotlib.pyplot as plt\n",
    "%matplotlib inline\n",
    "from IPython.display import set_matplotlib_formats, clear_output\n",
    "set_matplotlib_formats('retina')\n",
    "plt.style.use('ggplot')\n",
    "plt.rcParams['figure.figsize'] = (12.0, 7.0)\n",
    "\n",
    "from utils import load_datasets"
   ]
  },
  {
   "cell_type": "code",
   "execution_count": 2,
   "metadata": {},
   "outputs": [],
   "source": [
    "datasets = load_datasets()"
   ]
  },
  {
   "cell_type": "code",
   "execution_count": 5,
   "metadata": {},
   "outputs": [
    {
     "ename": "KeyError",
     "evalue": "1",
     "output_type": "error",
     "traceback": [
      "\u001b[0;31m---------------------------------------------------------------------------\u001b[0m",
      "\u001b[0;31mKeyError\u001b[0m                                  Traceback (most recent call last)",
      "\u001b[0;32m<ipython-input-5-ef3f8f2a138b>\u001b[0m in \u001b[0;36m<module>\u001b[0;34m\u001b[0m\n\u001b[0;32m----> 1\u001b[0;31m \u001b[0mdatasets\u001b[0m\u001b[0;34m[\u001b[0m\u001b[0;36m0\u001b[0m\u001b[0;34m]\u001b[0m\u001b[0;34m.\u001b[0m\u001b[0mworkers\u001b[0m\u001b[0;34m[\u001b[0m\u001b[0;36m1\u001b[0m\u001b[0;34m]\u001b[0m\u001b[0;34m.\u001b[0m\u001b[0mmorning_options\u001b[0m\u001b[0;34m\u001b[0m\u001b[0;34m\u001b[0m\u001b[0m\n\u001b[0m",
      "\u001b[0;31mKeyError\u001b[0m: 1"
     ]
    }
   ],
   "source": [
    "datasets[0].workers[1].morning_options"
   ]
  },
  {
   "cell_type": "code",
   "execution_count": 6,
   "metadata": {},
   "outputs": [
    {
     "ename": "AttributeError",
     "evalue": "'Dataset' object has no attribute 'transports'",
     "output_type": "error",
     "traceback": [
      "\u001b[0;31m---------------------------------------------------------------------------\u001b[0m",
      "\u001b[0;31mAttributeError\u001b[0m                            Traceback (most recent call last)",
      "\u001b[0;32m<ipython-input-6-2403312430f6>\u001b[0m in \u001b[0;36m<module>\u001b[0;34m\u001b[0m\n\u001b[1;32m      1\u001b[0m \u001b[0;32mfor\u001b[0m \u001b[0mdataset\u001b[0m \u001b[0;32min\u001b[0m \u001b[0mdatasets\u001b[0m\u001b[0;34m:\u001b[0m\u001b[0;34m\u001b[0m\u001b[0;34m\u001b[0m\u001b[0m\n\u001b[0;32m----> 2\u001b[0;31m     \u001b[0mprint\u001b[0m\u001b[0;34m(\u001b[0m\u001b[0mlen\u001b[0m\u001b[0;34m(\u001b[0m\u001b[0mdataset\u001b[0m\u001b[0;34m.\u001b[0m\u001b[0mtransports\u001b[0m\u001b[0;34m)\u001b[0m\u001b[0;34m)\u001b[0m\u001b[0;34m\u001b[0m\u001b[0;34m\u001b[0m\u001b[0m\n\u001b[0m",
      "\u001b[0;31mAttributeError\u001b[0m: 'Dataset' object has no attribute 'transports'"
     ]
    }
   ],
   "source": [
    "for dataset in datasets:\n",
    "    print(len(dataset.transports))"
   ]
  },
  {
   "cell_type": "code",
   "execution_count": 9,
   "metadata": {},
   "outputs": [
    {
     "ename": "AttributeError",
     "evalue": "'int' object has no attribute 'score'",
     "output_type": "error",
     "traceback": [
      "\u001b[0;31m---------------------------------------------------------------------------\u001b[0m",
      "\u001b[0;31mAttributeError\u001b[0m                            Traceback (most recent call last)",
      "\u001b[0;32m<ipython-input-9-ccd5527b33fe>\u001b[0m in \u001b[0;36m<module>\u001b[0;34m\u001b[0m\n\u001b[0;32m----> 1\u001b[0;31m \u001b[0mmin\u001b[0m\u001b[0;34m(\u001b[0m\u001b[0mdatasets\u001b[0m\u001b[0;34m[\u001b[0m\u001b[0;36m1\u001b[0m\u001b[0;34m]\u001b[0m\u001b[0;34m.\u001b[0m\u001b[0mtransports_evening\u001b[0m\u001b[0;34m,\u001b[0m \u001b[0mkey\u001b[0m\u001b[0;34m=\u001b[0m\u001b[0;32mlambda\u001b[0m \u001b[0mx\u001b[0m\u001b[0;34m:\u001b[0m \u001b[0mx\u001b[0m\u001b[0;34m.\u001b[0m\u001b[0mscore\u001b[0m\u001b[0;34m)\u001b[0m\u001b[0;34m\u001b[0m\u001b[0;34m\u001b[0m\u001b[0m\n\u001b[0m",
      "\u001b[0;32m<ipython-input-9-ccd5527b33fe>\u001b[0m in \u001b[0;36m<lambda>\u001b[0;34m(x)\u001b[0m\n\u001b[0;32m----> 1\u001b[0;31m \u001b[0mmin\u001b[0m\u001b[0;34m(\u001b[0m\u001b[0mdatasets\u001b[0m\u001b[0;34m[\u001b[0m\u001b[0;36m1\u001b[0m\u001b[0;34m]\u001b[0m\u001b[0;34m.\u001b[0m\u001b[0mtransports_evening\u001b[0m\u001b[0;34m,\u001b[0m \u001b[0mkey\u001b[0m\u001b[0;34m=\u001b[0m\u001b[0;32mlambda\u001b[0m \u001b[0mx\u001b[0m\u001b[0;34m:\u001b[0m \u001b[0mx\u001b[0m\u001b[0;34m.\u001b[0m\u001b[0mscore\u001b[0m\u001b[0;34m)\u001b[0m\u001b[0;34m\u001b[0m\u001b[0;34m\u001b[0m\u001b[0m\n\u001b[0m",
      "\u001b[0;31mAttributeError\u001b[0m: 'int' object has no attribute 'score'"
     ]
    }
   ],
   "source": [
    "min(datasets[1].transports_evening, key=lambda x: x.score)"
   ]
  },
  {
   "cell_type": "code",
   "execution_count": 13,
   "metadata": {},
   "outputs": [],
   "source": [
    "def solution1(dataset):\n",
    "    \n",
    "    quotas = dataset.quotas\n",
    "    \n",
    "    def option_score(option, is_morning):\n",
    "        s = 0\n",
    "        if is_morning:\n",
    "            for transport_id in option:\n",
    "                s += dataset.transports_morning[transport_id].score\n",
    "        else:\n",
    "            for transport_id in option:\n",
    "                s += dataset.transports_evening[transport_id].score\n",
    "        return s\n",
    "    \n",
    "    workers = dataset.workers\n",
    "    sol = []\n",
    "    for worker_id in workers:\n",
    "        worker = workers[worker_id]\n",
    "        \n",
    "        morning_scores = []\n",
    "        for option in worker.morning_options:\n",
    "            morning_scores.append(option_score(option, True))\n",
    "        \n",
    "        evening_scores = []\n",
    "        for option in worker.evening_options:\n",
    "            evening_scores.append(option_score(option, False))\n",
    "        \n",
    "        sol_worker = {\"name\": worker.id, \"morningOptionIndex\": np.argmin(morning_scores), \\\n",
    "                      \"eveningOptionIndex\": np.argmin(evening_scores)}\n",
    "        \n",
    "        if quotas[worker.domain] > 0:\n",
    "            sol.append(sol_worker)\n",
    "            quotas[worker.domain] -= 1\n",
    "    \n",
    "    return sol"
   ]
  },
  {
   "cell_type": "code",
   "execution_count": 15,
   "metadata": {},
   "outputs": [
    {
     "data": {
      "text/plain": [
       "[{'name': 'Mohammed Poirier',\n",
       "  'morningOptionIndex': 0,\n",
       "  'eveningOptionIndex': 0},\n",
       " {'name': 'Johnny Mercier', 'morningOptionIndex': 4, 'eveningOptionIndex': 4},\n",
       " {'name': 'JeanMax Mercier', 'morningOptionIndex': 1, 'eveningOptionIndex': 2},\n",
       " {'name': 'Magaly Lambert', 'morningOptionIndex': 0, 'eveningOptionIndex': 3},\n",
       " {'name': 'Youssef Germain', 'morningOptionIndex': 1, 'eveningOptionIndex': 2},\n",
       " {'name': 'Elisa Guillot', 'morningOptionIndex': 1, 'eveningOptionIndex': 0},\n",
       " {'name': 'Mario Aubert', 'morningOptionIndex': 2, 'eveningOptionIndex': 3},\n",
       " {'name': 'Mathias Poulain', 'morningOptionIndex': 3, 'eveningOptionIndex': 1},\n",
       " {'name': 'Armando Chevallier',\n",
       "  'morningOptionIndex': 1,\n",
       "  'eveningOptionIndex': 0},\n",
       " {'name': 'Sabine Petit', 'morningOptionIndex': 1, 'eveningOptionIndex': 1},\n",
       " {'name': 'Auguste Brun', 'morningOptionIndex': 0, 'eveningOptionIndex': 0},\n",
       " {'name': 'Eveline Bernard', 'morningOptionIndex': 0, 'eveningOptionIndex': 0},\n",
       " {'name': 'Mounir Marechal', 'morningOptionIndex': 1, 'eveningOptionIndex': 1},\n",
       " {'name': 'Luis Rousseau', 'morningOptionIndex': 3, 'eveningOptionIndex': 2},\n",
       " {'name': 'Ange Perez', 'morningOptionIndex': 2, 'eveningOptionIndex': 0},\n",
       " {'name': 'Valentine Gay', 'morningOptionIndex': 0, 'eveningOptionIndex': 0},\n",
       " {'name': 'Flavio Evrard', 'morningOptionIndex': 2, 'eveningOptionIndex': 0},\n",
       " {'name': 'Germaine Sanchez',\n",
       "  'morningOptionIndex': 0,\n",
       "  'eveningOptionIndex': 0},\n",
       " {'name': 'Danny Adam', 'morningOptionIndex': 0, 'eveningOptionIndex': 2},\n",
       " {'name': 'Fernand Philippe',\n",
       "  'morningOptionIndex': 2,\n",
       "  'eveningOptionIndex': 2},\n",
       " {'name': 'Tito Le gall', 'morningOptionIndex': 2, 'eveningOptionIndex': 1},\n",
       " {'name': 'JeanAntoine Lambert',\n",
       "  'morningOptionIndex': 3,\n",
       "  'eveningOptionIndex': 2},\n",
       " {'name': 'Hector Le gall', 'morningOptionIndex': 1, 'eveningOptionIndex': 0},\n",
       " {'name': 'Bruce Adam', 'morningOptionIndex': 0, 'eveningOptionIndex': 2},\n",
       " {'name': 'Claudius Olivier',\n",
       "  'morningOptionIndex': 0,\n",
       "  'eveningOptionIndex': 0},\n",
       " {'name': 'Jeanine Robert', 'morningOptionIndex': 4, 'eveningOptionIndex': 2},\n",
       " {'name': 'Brice Julien', 'morningOptionIndex': 0, 'eveningOptionIndex': 0},\n",
       " {'name': 'Yohann Bouvier', 'morningOptionIndex': 1, 'eveningOptionIndex': 0},\n",
       " {'name': 'MarieEvelyn Fabre',\n",
       "  'morningOptionIndex': 3,\n",
       "  'eveningOptionIndex': 0},\n",
       " {'name': 'Jackie Faure', 'morningOptionIndex': 0, 'eveningOptionIndex': 2},\n",
       " {'name': 'GeorgesHenri Prevost',\n",
       "  'morningOptionIndex': 1,\n",
       "  'eveningOptionIndex': 1},\n",
       " {'name': 'Diana Herve', 'morningOptionIndex': 2, 'eveningOptionIndex': 3},\n",
       " {'name': 'Eve Millet', 'morningOptionIndex': 1, 'eveningOptionIndex': 0},\n",
       " {'name': 'Carmine Albert', 'morningOptionIndex': 0, 'eveningOptionIndex': 0},\n",
       " {'name': 'Stephane Marchal',\n",
       "  'morningOptionIndex': 2,\n",
       "  'eveningOptionIndex': 0},\n",
       " {'name': 'CharlesLouis Dufour',\n",
       "  'morningOptionIndex': 0,\n",
       "  'eveningOptionIndex': 0},\n",
       " {'name': 'Bianca Aubry', 'morningOptionIndex': 0, 'eveningOptionIndex': 4},\n",
       " {'name': 'Lucien Blanchard',\n",
       "  'morningOptionIndex': 1,\n",
       "  'eveningOptionIndex': 1},\n",
       " {'name': 'Leonie Picard', 'morningOptionIndex': 1, 'eveningOptionIndex': 0},\n",
       " {'name': 'Maria Boyer', 'morningOptionIndex': 2, 'eveningOptionIndex': 1},\n",
       " {'name': 'Claire Gonzalez', 'morningOptionIndex': 0, 'eveningOptionIndex': 0},\n",
       " {'name': 'Kenny Dumas', 'morningOptionIndex': 1, 'eveningOptionIndex': 0},\n",
       " {'name': 'Fabre David', 'morningOptionIndex': 1, 'eveningOptionIndex': 1},\n",
       " {'name': 'Emma Le roux', 'morningOptionIndex': 2, 'eveningOptionIndex': 0},\n",
       " {'name': 'Zoubida Albert', 'morningOptionIndex': 4, 'eveningOptionIndex': 2},\n",
       " {'name': 'Sam Pons', 'morningOptionIndex': 0, 'eveningOptionIndex': 0},\n",
       " {'name': 'Dan Dupuy', 'morningOptionIndex': 3, 'eveningOptionIndex': 0},\n",
       " {'name': 'Aurore Philippe', 'morningOptionIndex': 0, 'eveningOptionIndex': 3},\n",
       " {'name': 'Ralf Guillot', 'morningOptionIndex': 3, 'eveningOptionIndex': 2},\n",
       " {'name': 'Eliane Breton', 'morningOptionIndex': 1, 'eveningOptionIndex': 2},\n",
       " {'name': 'Linda Humbert', 'morningOptionIndex': 0, 'eveningOptionIndex': 0},\n",
       " {'name': 'Angelina Mercier',\n",
       "  'morningOptionIndex': 1,\n",
       "  'eveningOptionIndex': 1}]"
      ]
     },
     "execution_count": 15,
     "metadata": {},
     "output_type": "execute_result"
    }
   ],
   "source": [
    "solution1(datasets[1])"
   ]
  },
  {
   "cell_type": "code",
   "execution_count": null,
   "metadata": {},
   "outputs": [],
   "source": []
  }
 ],
 "metadata": {
  "kernelspec": {
   "display_name": "Python 3",
   "language": "python",
   "name": "python3"
  },
  "language_info": {
   "codemirror_mode": {
    "name": "ipython",
    "version": 3
   },
   "file_extension": ".py",
   "mimetype": "text/x-python",
   "name": "python",
   "nbconvert_exporter": "python",
   "pygments_lexer": "ipython3",
   "version": "3.7.3"
  }
 },
 "nbformat": 4,
 "nbformat_minor": 4
}
