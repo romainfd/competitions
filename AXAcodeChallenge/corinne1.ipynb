{
 "cells": [
  {
   "cell_type": "code",
   "execution_count": null,
   "metadata": {},
   "outputs": [],
   "source": [
    "#%load_ext autoreload\n",
    "#%autoreload 2\n",
    "\n",
    "import json\n",
    "import numpy as np\n",
    "import seaborn as sns\n",
    "\n",
    "import matplotlib\n",
    "import matplotlib.pyplot as plt\n",
    "%matplotlib inline\n",
    "from IPython.display import set_matplotlib_formats, clear_output\n",
    "set_matplotlib_formats('retina')\n",
    "plt.style.use('ggplot')\n",
    "plt.rcParams['figure.figsize'] = (12.0, 7.0)\n",
    "\n",
    "from utils import *"
   ]
  },
  {
   "cell_type": "code",
   "execution_count": 2,
   "metadata": {},
   "outputs": [],
   "source": [
    "datasets = load_datasets()"
   ]
  },
  {
   "cell_type": "code",
   "execution_count": 3,
   "metadata": {},
   "outputs": [],
   "source": [
    "datasets_raw = [load_dataset_raw(i) for i in range(1, 7)]"
   ]
  },
  {
   "cell_type": "code",
   "execution_count": 4,
   "metadata": {},
   "outputs": [],
   "source": [
    "def solution1(dataset):\n",
    "    \n",
    "    quotas = dataset.quotas.copy()\n",
    "    \n",
    "    def option_score(option, is_morning):\n",
    "        s = 0\n",
    "        if is_morning:\n",
    "            for transport_id in option:\n",
    "                s += dataset.transports_morning[transport_id].score\n",
    "        else:\n",
    "            for transport_id in option:\n",
    "                s += dataset.transports_evening[transport_id].score\n",
    "        return s\n",
    "    \n",
    "    workers = dataset.workers\n",
    "    sol = []\n",
    "    for worker_id in workers:\n",
    "        worker = workers[worker_id]\n",
    "        \n",
    "        morning_scores = []\n",
    "        for option in worker.morning_options:\n",
    "            morning_scores.append(option_score(option, True))\n",
    "        \n",
    "        evening_scores = []\n",
    "        for option in worker.evening_options:\n",
    "            evening_scores.append(option_score(option, False))\n",
    "        \n",
    "        sol_worker = {\"name\": worker.id, \"morningOptionIndex\": np.argmin(morning_scores), \\\n",
    "                      \"eveningOptionIndex\": np.argmin(evening_scores)}\n",
    "        \n",
    "        if quotas[worker.domain] > 0:\n",
    "            sol.append(sol_worker)\n",
    "            quotas[worker.domain] -= 1\n",
    "    \n",
    "    return sol"
   ]
  },
  {
   "cell_type": "code",
   "execution_count": 5,
   "metadata": {},
   "outputs": [
    {
     "name": "stdout",
     "output_type": "stream",
     "text": [
      "1: 6\n",
      "2: 1616\n",
      "3: 596724\n",
      "4: 2056002\n",
      "5: 3666508\n",
      "6: 45574116\n",
      "Global: 51894972\n"
     ]
    }
   ],
   "source": [
    "solutions = []\n",
    "scores = []\n",
    "for dataset in datasets:\n",
    "    print(dataset.id, end=\": \")\n",
    "    solution = solution1(dataset)\n",
    "    solutions.append(solution)\n",
    "    scores.append(get_score(solution, datasets_raw[dataset.id - 1]))\n",
    "    print(scores[-1])\n",
    "print(f'Global: {sum(scores)}')"
   ]
  },
  {
   "cell_type": "code",
   "execution_count": 6,
   "metadata": {},
   "outputs": [],
   "source": [
    "write_solutions(solutions)"
   ]
  },
  {
   "cell_type": "code",
   "execution_count": null,
   "metadata": {},
   "outputs": [],
   "source": []
  }
 ],
 "metadata": {
  "kernelspec": {
   "display_name": "Python 3",
   "language": "python",
   "name": "python3"
  },
  "language_info": {
   "codemirror_mode": {
    "name": "ipython",
    "version": 3
   },
   "file_extension": ".py",
   "mimetype": "text/x-python",
   "name": "python",
   "nbconvert_exporter": "python",
   "pygments_lexer": "ipython3",
   "version": "3.7.6"
  }
 },
 "nbformat": 4,
 "nbformat_minor": 4
}
