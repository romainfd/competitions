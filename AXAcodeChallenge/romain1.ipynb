{
 "cells": [
  {
   "cell_type": "code",
   "execution_count": 3,
   "metadata": {},
   "outputs": [],
   "source": [
    "#%load_ext autoreload\n",
    "#%autoreload 2\n",
    "\n",
    "import json\n",
    "import numpy as np\n",
    "import seaborn as sns\n",
    "\n",
    "import matplotlib\n",
    "import matplotlib.pyplot as plt\n",
    "%matplotlib inline\n",
    "from IPython.display import set_matplotlib_formats, clear_output\n",
    "set_matplotlib_formats('retina')\n",
    "plt.style.use('ggplot')\n",
    "plt.rcParams['figure.figsize'] = (12.0, 7.0)\n",
    "\n",
    "from utils import load_datasets"
   ]
  },
  {
   "cell_type": "code",
   "execution_count": 4,
   "metadata": {},
   "outputs": [],
   "source": [
    "datasets = load_datasets()"
   ]
  },
  {
   "cell_type": "code",
   "execution_count": 5,
   "metadata": {},
   "outputs": [
    {
     "data": {
      "text/plain": [
       "50000"
      ]
     },
     "execution_count": 5,
     "metadata": {},
     "output_type": "execute_result"
    }
   ],
   "source": [
    "len(datasets[5].workers)"
   ]
  },
  {
   "cell_type": "code",
   "execution_count": 6,
   "metadata": {},
   "outputs": [
    {
     "data": {
      "text/plain": [
       "[Dataset(1), Dataset(2), Dataset(3), Dataset(4), Dataset(5), Dataset(6)]"
      ]
     },
     "execution_count": 6,
     "metadata": {},
     "output_type": "execute_result"
    }
   ],
   "source": [
    "datasets"
   ]
  },
  {
   "cell_type": "code",
   "execution_count": 6,
   "metadata": {},
   "outputs": [
    {
     "data": {
      "text/plain": [
       "[[101, 111], [102, 112]]"
      ]
     },
     "execution_count": 6,
     "metadata": {},
     "output_type": "execute_result"
    }
   ],
   "source": [
    "datasets[0].workers[\"Chloe Carbonneau\"].morning_options"
   ]
  },
  {
   "cell_type": "code",
   "execution_count": 8,
   "metadata": {},
   "outputs": [
    {
     "name": "stdout",
     "output_type": "stream",
     "text": [
      "6\n",
      "30\n",
      "5000\n",
      "999\n",
      "221\n",
      "999\n"
     ]
    }
   ],
   "source": [
    "for dataset in datasets:\n",
    "    print(len(dataset.transports_morning))"
   ]
  },
  {
   "cell_type": "code",
   "execution_count": 10,
   "metadata": {},
   "outputs": [
    {
     "data": {
      "text/plain": [
       "35"
      ]
     },
     "execution_count": 10,
     "metadata": {},
     "output_type": "execute_result"
    }
   ],
   "source": [
    "min(datasets[1].transports_evening.values(), key=lambda x: x.score)"
   ]
  },
  {
   "cell_type": "code",
   "execution_count": 13,
   "metadata": {},
   "outputs": [
    {
     "data": {
      "text/plain": [
       "31"
      ]
     },
     "execution_count": 13,
     "metadata": {},
     "output_type": "execute_result"
    }
   ],
   "source": [
    "datasets[1].transports_evening[33].score"
   ]
  },
  {
   "cell_type": "code",
   "execution_count": 12,
   "metadata": {},
   "outputs": [
    {
     "data": {
      "text/plain": [
       "{37: 37,\n",
       " 33: 33,\n",
       " 47: 47,\n",
       " 39: 39,\n",
       " 51: 51,\n",
       " 49: 49,\n",
       " 54: 54,\n",
       " 60: 60,\n",
       " 41: 41,\n",
       " 59: 59,\n",
       " 34: 34,\n",
       " 31: 31,\n",
       " 58: 58,\n",
       " 45: 45,\n",
       " 56: 56,\n",
       " 52: 52,\n",
       " 57: 57,\n",
       " 46: 46,\n",
       " 38: 38,\n",
       " 43: 43,\n",
       " 36: 36,\n",
       " 55: 55,\n",
       " 50: 50,\n",
       " 48: 48,\n",
       " 44: 44,\n",
       " 53: 53,\n",
       " 35: 35,\n",
       " 42: 42,\n",
       " 32: 32,\n",
       " 40: 40}"
      ]
     },
     "execution_count": 12,
     "metadata": {},
     "output_type": "execute_result"
    }
   ],
   "source": [
    "datasets[1].transports_evening"
   ]
  },
  {
   "cell_type": "code",
   "execution_count": null,
   "metadata": {},
   "outputs": [],
   "source": []
  }
 ],
 "metadata": {
  "kernelspec": {
   "display_name": "P3A",
   "language": "python",
   "name": "p3a"
  },
  "language_info": {
   "codemirror_mode": {
    "name": "ipython",
    "version": 3
   },
   "file_extension": ".py",
   "mimetype": "text/x-python",
   "name": "python",
   "nbconvert_exporter": "python",
   "pygments_lexer": "ipython3",
   "version": "3.6.5"
  }
 },
 "nbformat": 4,
 "nbformat_minor": 4
}
